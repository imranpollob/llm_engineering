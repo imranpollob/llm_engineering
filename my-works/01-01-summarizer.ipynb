{
 "cells": [
  {
   "cell_type": "markdown",
   "id": "0c3226a5",
   "metadata": {},
   "source": [
    "# Website Summarizer\n",
    "\n",
    "For a given url this project give a summary of the web contents"
   ]
  },
  {
   "cell_type": "code",
   "execution_count": 3,
   "id": "5542a994",
   "metadata": {},
   "outputs": [],
   "source": [
    "import os\n",
    "import requests \n",
    "from dotenv import load_dotenv\n",
    "from bs4 import BeautifulSoup\n",
    "from IPython.display import Markdown, display\n",
    "from openai import OpenAI\n",
    "\n",
    "load_dotenv()\n",
    "\n",
    "api_key = os.getenv(\"OPENAI_API_KEY\")\n",
    "\n",
    "if not api_key:\n",
    "    print(\"API key not found. Please set the OPENAI_API_KEY environment variable.\")"
   ]
  },
  {
   "cell_type": "code",
   "execution_count": 4,
   "id": "2c242f58",
   "metadata": {},
   "outputs": [],
   "source": [
    "openai = OpenAI()\n",
    "# The api_key client option must be set either by passing api_key to the client or by setting the OPENAI_API_KEY environment variable"
   ]
  },
  {
   "cell_type": "markdown",
   "id": "bbbabedf",
   "metadata": {},
   "source": [
    "### Test call"
   ]
  },
  {
   "cell_type": "code",
   "execution_count": 5,
   "id": "38abff63",
   "metadata": {},
   "outputs": [
    {
     "name": "stdout",
     "output_type": "stream",
     "text": [
      "Response from OpenAI API:\n",
      "Hello! That's great to hear that you're making your first API call. Do you need help with anything specific like setting up your API request, understanding how APIs work, or troubleshooting a particular issue? Let me know how I can assist you!\n"
     ]
    }
   ],
   "source": [
    "message = \"Hello This is my first api call\"\n",
    "response = openai.chat.completions.create(\n",
    "    model=\"gpt-4o\",\n",
    "    messages=[\n",
    "        {\"role\": \"system\", \"content\": \"You are a helpful assistant.\"},\n",
    "        {\"role\": \"user\", \"content\": message}\n",
    "    ]\n",
    ")\n",
    "print(\"Response from OpenAI API:\")\n",
    "# print(response)\n",
    "print(response.choices[0].message.content)"
   ]
  },
  {
   "cell_type": "markdown",
   "id": "c7ab702b",
   "metadata": {},
   "source": [
    "### Making a website class"
   ]
  },
  {
   "cell_type": "code",
   "execution_count": 6,
   "id": "884a7888",
   "metadata": {},
   "outputs": [],
   "source": [
    "class Website:\n",
    "    def __init__(self, url):\n",
    "        self.url = url\n",
    "        self.title = None\n",
    "        self.text = None\n",
    "        self.load_website()\n",
    "        \n",
    "    def load_website(self):\n",
    "        try:\n",
    "            response = requests.get(self.url)\n",
    "            response.raise_for_status()  # Raise an error for bad responses\n",
    "            soup = BeautifulSoup(response.text, 'html.parser')\n",
    "            self.title = soup.title.string if soup.title else \"No title found\"\n",
    "            self.text = soup.body.get_text()\n",
    "        except requests.RequestException as e:\n",
    "            print(f\"Error loading website: {e}\")\n",
    "            self.title = \"Error\"\n",
    "            self.text = \"\""
   ]
  },
  {
   "cell_type": "markdown",
   "id": "68b3fc79",
   "metadata": {},
   "source": [
    "### Types of prompt\n",
    "\n",
    "**A system prompt** that tells them what task they are performing and what tone they should use\n",
    "\n",
    "**A user prompt** -- the conversation starter that they should reply to"
   ]
  },
  {
   "cell_type": "code",
   "execution_count": 7,
   "id": "c0d0c719",
   "metadata": {},
   "outputs": [],
   "source": [
    "system_prompt = \"Your are a helpful assistant that summarizes website content, ignoring navigation and other non-content elements. Respond in markdown format.\""
   ]
  },
  {
   "cell_type": "code",
   "execution_count": 8,
   "id": "6f6d056f",
   "metadata": {},
   "outputs": [],
   "source": [
    "def user_prompt_for(website):\n",
    "    user_prompt = f\"You are looking at a website titled {website.title}\"\n",
    "    user_prompt += \"\\nThe contents of this website is as follows; \\\n",
    "        If it includes news or announcements, then summarize these too.\\n\\n\"\n",
    "    user_prompt += website.text\n",
    "    \n",
    "    return user_prompt"
   ]
  },
  {
   "cell_type": "code",
   "execution_count": 9,
   "id": "cb5d60ee",
   "metadata": {},
   "outputs": [
    {
     "data": {
      "text/plain": [
       "\"# Summary of Python.org\\n\\n## Latest News\\n- **June 17, 2025:** Python 3.14.0 beta 3 has been released.\\n- **June 17, 2025:** The PSF's 2024 Annual Impact Report is now available.\\n- **June 12, 2025:** 2025 PSF Board Election Schedule has been announced.\\n- **June 12, 2025:** The Python Language Summit 2025 took place, focusing on fearless concurrency.\\n\\n## Upcoming Events\\n- **June 23, 2025:** Python Coding Club for Teens (PyDiffa)\\n- **June 24, 2025:** PYOPP - Publish Your Own Python Package\\n- **June 26, 2025:** ScaleDown event focusing on optimizing AI prompts.\\n- **June 28, 2025:** PyCamp Leipzig 2025\\n- **June 28, 2025:** Launching of Python Katsina Community\\n\\n## General Information\\n- Python is a versatile programming language suitable for web, GUI, scientific, numeric, software development, and system administration applications.\\n- The Python Software Foundation (PSF) aims to promote and support Python and its community globally.\\n- The website offers resources such as downloads, documentation, community forums, and job boards for Python users.\\n\\n## Key Features\\n- Python's intuitive syntax and functionality make it accessible for both beginners and experienced developers.\\n- Features include easy function definition, list comprehension, and control flow statements.\""
      ]
     },
     "execution_count": 9,
     "metadata": {},
     "output_type": "execute_result"
    }
   ],
   "source": [
    "def summarize_website(url):\n",
    "    website = Website(url)\n",
    "    response = openai.chat.completions.create(\n",
    "        model=\"gpt-4o\",\n",
    "        messages=[\n",
    "            {\"role\": \"system\", \"content\": system_prompt},\n",
    "            {\"role\": \"user\", \"content\": user_prompt_for(website)}\n",
    "        ],\n",
    "    )\n",
    "    return response.choices[0].message.content\n",
    "\n",
    "summarize_website(\"https://www.python.org\")"
   ]
  },
  {
   "cell_type": "code",
   "execution_count": 10,
   "id": "73b0c823",
   "metadata": {},
   "outputs": [
    {
     "data": {
      "text/markdown": [
       "# Summary of Python.org\n",
       "\n",
       "## Latest News\n",
       "- **2025-06-17**: Release of Python 3.14.0 beta 3.\n",
       "- **2025-06-17**: Publication of the PSF's 2024 Annual Impact Report.\n",
       "- **2025-06-12**: Announcement of the 2025 PSF Board Election Schedule.\n",
       "- **2025-06-12**: Highlights from the Python Language Summit 2025, including topics on Fearless Concurrency.\n",
       "\n",
       "## Upcoming Events\n",
       "- **2025-06-23**: Python Coding Club for Teens (PyDiffa)\n",
       "- **2025-06-24**: PYOPP - Publish Your Own Python Package\n",
       "- **2025-06-26**: ScaleDown: Optimize AI prompts to reduce verbosity and carbon footprint\n",
       "- **2025-06-28**: PyCamp Leipzig 2025 and Launching Python Katsina Community\n",
       "\n",
       "## Success Story\n",
       "- **Azure CLI with Python**: Emphasizes Python's flexibility and ecosystem, supporting autocompletion, persistent credentials, and more.\n",
       "\n",
       "## Use Python for...\n",
       "- **Web Development**: Frameworks like Django, Flask, etc.\n",
       "- **GUI Development**: Libraries including tkInter, PyQt, etc.\n",
       "- **Scientific and Numeric**: Tools like SciPy, Pandas.\n",
       "- **Software Development**: With tools such as Buildbot, Trac.\n",
       "- **System Administration**: Using Ansible, Salt, and others.\n",
       "\n",
       "## About PSF\n",
       "The Python Software Foundation promotes and advances the Python language, while supporting a diverse global community of programmers. Opportunities to become a member or donate are available.\n",
       "\n",
       "For newcomers, the site offers a Beginner’s Guide, and for those looking for work, a relaunched community-run job board is available. Documentation and various Python-related resources are also provided for accessibility and support."
      ],
      "text/plain": [
       "<IPython.core.display.Markdown object>"
      ]
     },
     "metadata": {},
     "output_type": "display_data"
    }
   ],
   "source": [
    "def display_summary(url):\n",
    "    summary = summarize_website(url)\n",
    "    display(Markdown(summary))\n",
    "    \n",
    "display_summary(\"https://www.python.org\")"
   ]
  },
  {
   "cell_type": "code",
   "execution_count": 11,
   "id": "2e0c08f1",
   "metadata": {},
   "outputs": [
    {
     "data": {
      "text/markdown": [
       "**Home | Imran Pollob**\n",
       "\n",
       "---\n",
       "\n",
       "**Introduction**\n",
       "\n",
       "Imran Pollob is a software engineer who is currently pursuing a PhD, conducting research in Blockchain Security. He is focused on developing tools for automated smart contract vulnerability detection.\n",
       "\n",
       "**Professional Background**\n",
       "\n",
       "With over five years of experience as a software engineer, Imran has worked with diverse tech stacks and collaborated on consumer-facing projects. He is passionate about web development and enjoys working on side projects.\n",
       "\n",
       "**Recent Blog Posts**\n",
       "\n",
       "- **June 30, 2024**: *Wrapped Tokens: The Key to Cross-Chain Liquidity and Utility* (DeFi)\n",
       "- **June 28, 2024**: *System Design Interview: Understanding Proxies* (System Design)\n",
       "- **June 26, 2024**: *System Design Interview: Understanding Load Balancers* (System Design)\n",
       "\n",
       "**Tech Stack**\n",
       "\n",
       "Imran works with a wide range of technologies, including Python, JavaScript, React, Next.js, Vue.js, Node.js, PHP, Laravel, MySQL, PostgreSQL, MongoDB, AWS, and Solidity.\n",
       "\n",
       "**Recent Projects**\n",
       "\n",
       "- **June 16, 2024**: *Color Shade Generator* (Python)\n",
       "- **June 13, 2024**: *Code Snippet App* (Python)\n",
       "- **June 11, 2024**: *Slugify strings and copy to clipboard* (Python)\n",
       "\n",
       "**Contact Information**\n",
       "\n",
       "Imran can be reached via [email](mailto:polboy777@gmail.com) or through his profiles on [GitHub](https://github.com/imranpollob) and [LinkedIn](https://www.linkedin.com/in/imranpollob).\n",
       "\n",
       "---\n",
       "\n",
       "**Legal Information**\n",
       "\n",
       "Imran Pollob's website © 2024 | All rights reserved. Terms and Privacy statements available."
      ],
      "text/plain": [
       "<IPython.core.display.Markdown object>"
      ]
     },
     "metadata": {},
     "output_type": "display_data"
    }
   ],
   "source": [
    "display_summary(\"https://www.imranpollob.com\")"
   ]
  }
 ],
 "metadata": {
  "kernelspec": {
   "display_name": "llms",
   "language": "python",
   "name": "python3"
  },
  "language_info": {
   "codemirror_mode": {
    "name": "ipython",
    "version": 3
   },
   "file_extension": ".py",
   "mimetype": "text/x-python",
   "name": "python",
   "nbconvert_exporter": "python",
   "pygments_lexer": "ipython3",
   "version": "3.11.13"
  }
 },
 "nbformat": 4,
 "nbformat_minor": 5
}
