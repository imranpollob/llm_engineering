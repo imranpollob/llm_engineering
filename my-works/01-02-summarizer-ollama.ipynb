{
 "cells": [
  {
   "cell_type": "markdown",
   "id": "e80a5c02",
   "metadata": {},
   "source": [
    "# Website Summarizer Ollama\n",
    "We are going use local models like llama3.2 and DeepSeek-R1 locally to do the same task like before."
   ]
  },
  {
   "cell_type": "code",
   "execution_count": 2,
   "id": "b1af2f41",
   "metadata": {},
   "outputs": [
    {
     "name": "stderr",
     "output_type": "stream",
     "text": [
      "\u001b[?2026h\u001b[?25l\u001b[1Gpulling manifest ⠋ \u001b[K\u001b[?25h\u001b[?2026l\u001b[?2026h\u001b[?25l\u001b[1Gpulling manifest ⠙ \u001b[K\u001b[?25h\u001b[?2026l\u001b[?2026h\u001b[?25l\u001b[1Gpulling manifest \u001b[K\n",
      "pulling dde5aa3fc5ff: 100% ▕██████████████████▏ 2.0 GB                         \u001b[K\n",
      "pulling 966de95ca8a6: 100% ▕██████████████████▏ 1.4 KB                         \u001b[K\n",
      "pulling fcc5a6bec9da: 100% ▕██████████████████▏ 7.7 KB                         \u001b[K\n",
      "pulling a70ff7e570d9: 100% ▕██████████████████▏ 6.0 KB                         \u001b[K\n",
      "pulling 56bb8bd477a5: 100% ▕██████████████████▏   96 B                         \u001b[K\n",
      "pulling 34bb5ab01051: 100% ▕██████████████████▏  561 B                         \u001b[K\n",
      "verifying sha256 digest \u001b[K\n",
      "writing manifest \u001b[K\n",
      "success \u001b[K\u001b[?25h\u001b[?2026l\n"
     ]
    }
   ],
   "source": [
    "!ollama pull llama3.2"
   ]
  },
  {
   "cell_type": "code",
   "execution_count": 3,
   "id": "24ac11a0",
   "metadata": {},
   "outputs": [
    {
     "name": "stderr",
     "output_type": "stream",
     "text": [
      "\u001b[?2026h\u001b[?25l\u001b[1Gpulling manifest ⠋ \u001b[K\u001b[?25h\u001b[?2026l\u001b[?2026h\u001b[?25l\u001b[1Gpulling manifest ⠙ \u001b[K\u001b[?25h\u001b[?2026l\u001b[?2026h\u001b[?25l\u001b[1Gpulling manifest \u001b[K\n",
      "pulling aabd4debf0c8: 100% ▕██████████████████▏ 1.1 GB                         \u001b[K\n",
      "pulling c5ad996bda6e: 100% ▕██████████████████▏  556 B                         \u001b[K\n",
      "pulling 6e4c38e1172f: 100% ▕██████████████████▏ 1.1 KB                         \u001b[K\n",
      "pulling f4d24e9138dd: 100% ▕██████████████████▏  148 B                         \u001b[K\n",
      "pulling a85fe2a2e58e: 100% ▕██████████████████▏  487 B                         \u001b[K\n",
      "verifying sha256 digest \u001b[K\n",
      "writing manifest \u001b[K\n",
      "success \u001b[K\u001b[?25h\u001b[?2026l\n"
     ]
    }
   ],
   "source": [
    "!ollama pull deepseek-r1:1.5b"
   ]
  },
  {
   "cell_type": "code",
   "execution_count": 5,
   "id": "2c171767",
   "metadata": {},
   "outputs": [],
   "source": [
    "import requests\n",
    "from bs4 import BeautifulSoup\n",
    "from IPython.display import Markdown, display"
   ]
  },
  {
   "cell_type": "code",
   "execution_count": 7,
   "id": "50105741",
   "metadata": {},
   "outputs": [],
   "source": [
    "OLLAMA_API = \"http://localhost:11434/api/chat\"\n",
    "HEADERS = {\"Content-Type\": \"application/json\"}\n",
    "MODEL = \"llama3.2\"  # or \"deepseek-r1:1.5b\"\n"
   ]
  },
  {
   "cell_type": "code",
   "execution_count": 23,
   "id": "a012b2a2",
   "metadata": {},
   "outputs": [],
   "source": [
    "messages = [\n",
    "    {\"role\": \"user\", \"content\": \"Describe some of the business applications of Generative AI\"}\n",
    "]\n",
    "\n",
    "payload = {\n",
    "    \"model\": MODEL,\n",
    "    \"messages\": messages,\n",
    "    \"stream\": False\n",
    "}"
   ]
  },
  {
   "cell_type": "code",
   "execution_count": 24,
   "id": "a9708034",
   "metadata": {},
   "outputs": [
    {
     "data": {
      "text/markdown": [
       "Generative AI has numerous business applications across various industries, including:\n",
       "\n",
       "1. **Content Creation**: Generative AI can generate high-quality content such as blog posts, articles, social media posts, product descriptions, and more. This can help businesses save time and resources while still producing engaging content.\n",
       "2. **Design and Visuals**: Generative AI can create custom designs for logos, graphics, infographics, and other visual elements. This can be particularly useful for small businesses or startups that may not have the budget for a full-fledged design team.\n",
       "3. **Marketing Automation**: Generative AI can help automate marketing tasks such as lead generation, email campaigns, and social media posting. By generating high-quality content and engaging visuals, businesses can increase their online presence and reach new customers.\n",
       "4. **Product Development**: Generative AI can aid in product development by generating 3D models, prototypes, and even entire product designs. This can help businesses reduce the time and cost associated with traditional design and prototyping methods.\n",
       "5. **Customer Service**: Generative AI-powered chatbots can provide 24/7 customer support, helping to resolve common issues and freeing up human customer service representatives to focus on more complex problems.\n",
       "6. **Financial Analysis**: Generative AI can analyze large datasets and generate financial reports, predictions, and forecasts. This can help businesses make data-driven decisions and identify new opportunities for growth.\n",
       "7. **Supply Chain Optimization**: Generative AI can optimize supply chain operations by predicting demand, identifying bottlenecks, and recommending logistics improvements.\n",
       "8. **Data Analysis**: Generative AI can analyze large datasets and generate insights, helping businesses to better understand their customers, markets, and operations.\n",
       "9. **Music and Audio Generation**: Generative AI can create original music, audio effects, and even entire albums. This can be useful for businesses that need custom music or audio elements for their marketing campaigns.\n",
       "10. **Predictive Maintenance**: Generative AI can analyze sensor data from industrial equipment and predict when maintenance is needed, helping to reduce downtime and increase productivity.\n",
       "\n",
       "Some specific business examples of generative AI include:\n",
       "\n",
       "* **Google's Art Generator**: A tool that uses generative AI to create custom artwork for Google's advertising campaigns.\n",
       "* **Amazon's Product Generation**: A service that uses generative AI to generate product designs and descriptions for Amazon's e-commerce platform.\n",
       "* **Nike's Air Max 270 Design Tool**: A tool that uses generative AI to design custom sneakers for Nike customers.\n",
       "* **Dell's Generative AI-powered Sales Chatbot**: A chatbot that uses generative AI to provide personalized sales recommendations and support to Dell customers.\n",
       "\n",
       "These are just a few examples of the many business applications of generative AI. As the technology continues to evolve, we can expect to see even more innovative uses of generative AI across various industries."
      ],
      "text/plain": [
       "<IPython.core.display.Markdown object>"
      ]
     },
     "metadata": {},
     "output_type": "display_data"
    }
   ],
   "source": [
    "response = requests.post(OLLAMA_API, headers=HEADERS, json=payload)\n",
    "\n",
    "result = response.json()[\"message\"][\"content\"]\n",
    "\n",
    "display(Markdown(result))"
   ]
  },
  {
   "cell_type": "markdown",
   "id": "70a40cb5",
   "metadata": {},
   "source": [
    "### Using ollama package"
   ]
  },
  {
   "cell_type": "code",
   "execution_count": 18,
   "id": "073271cd",
   "metadata": {},
   "outputs": [
    {
     "data": {
      "text/markdown": [
       "Generative AI has numerous business applications across various industries, including:\n",
       "\n",
       "1. **Content Creation**: AI-powered tools can generate high-quality content such as blog posts, articles, social media posts, and product descriptions, saving time and effort for content creators.\n",
       "2. **Product Design**: Generative AI can create 3D models and designs for products, reducing the need for manual sketching and prototyping.\n",
       "3. **Image and Video Generation**: AI-powered tools can generate high-quality images and videos for marketing campaigns, advertising, and social media, allowing businesses to quickly create visual content without needing extensive design skills.\n",
       "4. **Chatbots and Virtual Assistants**: Generative AI can be used to create personalized chatbots and virtual assistants that can interact with customers, providing 24/7 support and improving customer experience.\n",
       "5. **Predictive Maintenance**: AI-powered predictive maintenance can analyze equipment performance data to predict potential failures, allowing businesses to schedule maintenance and reduce downtime.\n",
       "6. **Risk Analysis and Modeling**: Generative AI can be used to analyze large datasets and identify patterns, helping businesses make informed decisions about risk management and creditworthiness.\n",
       "7. **Supply Chain Optimization**: AI-powered tools can generate optimized supply chain plans based on historical data, market trends, and other factors, reducing lead times and improving inventory management.\n",
       "8. **Sales Forecasting**: Generative AI can analyze sales data to predict future sales patterns, enabling businesses to make more accurate forecasts and improve revenue predictions.\n",
       "9. **Customer Segmentation**: AI-powered tools can segment customer data based on behavior, preferences, and demographic characteristics, allowing businesses to tailor marketing campaigns and improve customer engagement.\n",
       "10. **Financial Analysis**: Generative AI can analyze financial data to identify trends, patterns, and anomalies, helping businesses make informed investment decisions and improve financial performance.\n",
       "\n",
       "Some specific business applications of Generative AI include:\n",
       "\n",
       "* **Marketing Automation**: Use generative AI to create personalized content, ads, and social media posts that are tailored to individual customers.\n",
       "* **Personalized Recommendations**: Use generative AI to analyze customer behavior and provide personalized product recommendations based on their interests and preferences.\n",
       "* **Intelligent Customer Service**: Use generative AI to create chatbots and virtual assistants that can interact with customers and provide support 24/7.\n",
       "* **Predictive Pricing**: Use generative AI to analyze market data and predict prices for products, enabling businesses to make more informed pricing decisions.\n",
       "* **Digital Twinning**: Use generative AI to create digital replicas of physical assets, allowing businesses to simulate scenarios and optimize performance.\n",
       "\n",
       "Overall, Generative AI has the potential to transform many business applications across various industries, improving efficiency, productivity, and customer experience."
      ],
      "text/plain": [
       "<IPython.core.display.Markdown object>"
      ]
     },
     "metadata": {},
     "output_type": "display_data"
    }
   ],
   "source": [
    "import ollama\n",
    "\n",
    "response = ollama.chat(\n",
    "    model=MODEL,\n",
    "    messages=messages,\n",
    ")\n",
    "\n",
    "result = response[\"message\"][\"content\"]\n",
    "\n",
    "display(Markdown(result))"
   ]
  },
  {
   "cell_type": "markdown",
   "id": "f39e215f",
   "metadata": {},
   "source": [
    "### Using openai package"
   ]
  },
  {
   "cell_type": "code",
   "execution_count": 32,
   "id": "601ba32f",
   "metadata": {},
   "outputs": [
    {
     "data": {
      "text/markdown": [
       "Generative AI has numerous business applications across various industries, including:\n",
       "\n",
       "1. **Content Creation**: Generative AI can generate high-quality content such as articles, social media posts, product descriptions, and more. This can help businesses save time and resources on content creation.\n",
       "\n",
       "2. **Marketing and Advertising**: Generative AI can be used to create personalized advertisements, product recommendations, and customer service responses. It can also help analyze customer behavior and preferences.\n",
       "\n",
       "3. **Product Design**: Generative AI can design new products, such as buildings, furniture, and electronics, faster and more efficiently than human designers. This can reduce costs and improve product quality.\n",
       "\n",
       "4. **Graphic Design**: Generative AI can create graphic designs, logos, and branding materials quickly and easily. This can help small businesses and entrepreneurs create professional-looking marketing materials without needing extensive design experience.\n",
       "\n",
       "5. **Transcription Services**: Generative AI can transcribe audio and video recordings with high accuracy, reducing the workload for human transcriptionists.\n",
       "\n",
       "6. **Customer Service**: Generative AI-powered chatbots can respond to customer inquiries, provide support, and resolve issues more efficiently than traditional human-based systems.\n",
       "\n",
       "7. **Predictive Maintenance**: Generative AI can analyze sensor data from machines and predict when maintenance is required, reducing downtime and improving overall efficiency.\n",
       "\n",
       "8. **Personalized Recommendations**: Generative AI can analyze customer behavior and preferences to recommend products, services, or content that are tailored to individual needs.\n",
       "\n",
       "9. **Data Analysis**: Generative AI can analyze large datasets quickly and efficiently, helping businesses to identify trends, patterns, and insights that may not be apparent using traditional methods.\n",
       "\n",
       "10. **Creative Writing and Storytelling**: Generative AI can generate creative writing, such as poetry, short stories, or even entire novels. This can help businesses generate new ideas for marketing campaigns, product descriptions, or other written content.\n",
       "\n",
       "11. **Music and Audio Generation**: Generative AI can create original music compositions, sound effects, and audio samples that can be used in a variety of applications, from film and television production to advertising and gaming.\n",
       "\n",
       "12. **Architecture and Urban Planning**: Generative AI can design buildings, cities, and public spaces quickly and efficiently. This can help urban planners, architects, and cities improve their planning processes while reducing costs and increasing efficiency.\n",
       "\n",
       "13. **Medical Imaging Analysis**: Generative AI can analyze medical images such as X-rays and CT scans to detect abnormalities and diseases more accurately than traditional human-based systems.\n",
       "\n",
       "14. **Supply Chain Optimization**: Generative AI can analyze supply chain data and identify patterns that may indicate inefficiencies or opportunities for improvement. This can help businesses optimize their supply chains, reduce costs, and improve delivery times.\n",
       "\n",
       "15. **Financial Analysis and Predictions**: Generative AI can analyze financial data and make predictions about market trends, stock prices, and other financial variables. This can help investors, portfolio managers, and financial analysts make more informed investment decisions.\n",
       "\n",
       "These are just a few examples of the many business applications of generative AI. As the technology continues to evolve, we can expect to see even more innovative uses across various industries."
      ],
      "text/plain": [
       "<IPython.core.display.Markdown object>"
      ]
     },
     "metadata": {},
     "output_type": "display_data"
    }
   ],
   "source": [
    "from openai import OpenAI\n",
    "\n",
    "ollama_via_openai = OpenAI(\n",
    "    base_url=\"http://localhost:11434/v1\",\n",
    "    api_key=\"ollama24\"\n",
    ")\n",
    "\n",
    "response = ollama_via_openai.chat.completions.create(\n",
    "    model=MODEL,\n",
    "    messages=messages,\n",
    ")\n",
    "\n",
    "result = response.choices[0].message.content\n",
    "display(Markdown(result))"
   ]
  },
  {
   "cell_type": "markdown",
   "id": "9f559b1e",
   "metadata": {},
   "source": [
    "### Making website class"
   ]
  },
  {
   "cell_type": "code",
   "execution_count": 34,
   "id": "1abaa5cb",
   "metadata": {},
   "outputs": [],
   "source": [
    "class Website:\n",
    "    def __init__(self, url):\n",
    "        self.url = url\n",
    "        self.title = None\n",
    "        self.text = None\n",
    "        self.load_website()\n",
    "        \n",
    "    def load_website(self):\n",
    "        try:\n",
    "            response = requests.get(self.url)\n",
    "            response.raise_for_status()  # Raise an error for bad responses\n",
    "            soup = BeautifulSoup(response.text, 'html.parser')\n",
    "            self.title = soup.title.string if soup.title else \"No title found\"\n",
    "            self.text = soup.body.get_text()\n",
    "        except requests.RequestException as e:\n",
    "            print(f\"Error loading website: {e}\")\n",
    "            self.title = \"Error\"\n",
    "            self.text = \"\""
   ]
  },
  {
   "cell_type": "code",
   "execution_count": 37,
   "id": "34092e16",
   "metadata": {},
   "outputs": [
    {
     "data": {
      "text/markdown": [
       "**News and Announcements**\n",
       "The Python Software Foundation is promoting the following recent news:\n",
       "\n",
       "* The official [Python 3.14.0 beta 3](https://docs.python.org/3/whatsnew/3.14.html#beta-3) has been released.\n",
       "* The PSF's [2024 Annual Impact Report](https://psf.org/news/announcements/pyfs-anual-impact-report--) is now available.\n",
       "* The [Python Language Summit 2025](https://schedule.py langs/summit/python2025/) schedule has been revealed.\n",
       "\n",
       "**Success Stories**\n",
       "The Python Software Foundation highlights several success stories:\n",
       "\n",
       "* Zama developed tools to simplify the integration of Fully Homorphic Encryption (FHE) into applications, utilizing Python as the primary language.\n",
       "* The PSF is promoting various successes, including:\n",
       "\t+ Web development using Django, Pyramid, and Flask.\n",
       "\t+ GUI development with tkinterInter, PyGObject, PyQt, PySide, Kivy, wxPython, DearPyGui.\n",
       "\t+ Scientific and numeric computation using SciPy, Pandas, and IPython.\n",
       "\t+ Software development with Buildbot, Trac, and Roundup.\n",
       "\t+ System administration with Ansible, Salt, OpenStack, xonsh.\n",
       "\t+ Use cases in:\n",
       "\t\t- Arts\n",
       "\t\t- Business\n",
       "\t\t- Education\n",
       "\t\t- Engineering\n",
       "\t\t- Government\n",
       "\t\t- Scientific research\n",
       "\t\t- Software development"
      ],
      "text/plain": [
       "<IPython.core.display.Markdown object>"
      ]
     },
     "metadata": {},
     "output_type": "display_data"
    }
   ],
   "source": [
    "from openai import OpenAI\n",
    "\n",
    "openai = OpenAI(\n",
    "    base_url=\"http://localhost:11434/v1\",\n",
    "    api_key=\"ollama24\"\n",
    ")\n",
    "\n",
    "system_prompt = \"Your are a helpful assistant that summarizes website content, ignoring navigation and other non-content elements. Respond in markdown format.\"\n",
    "\n",
    "def user_prompt_for(website):\n",
    "    user_prompt = f\"You are looking at a website titled {website.title}\"\n",
    "    user_prompt += \"\\nThe contents of this website is as follows; \\\n",
    "        If it includes news or announcements, then summarize these too.\\n\\n\"\n",
    "    user_prompt += website.text\n",
    "    \n",
    "    return user_prompt\n",
    "\n",
    "def summarize_website(url):\n",
    "    website = Website(url)\n",
    "    \n",
    "    response = openai.chat.completions.create(\n",
    "        model=MODEL,\n",
    "        messages=[\n",
    "            {\"role\": \"system\", \"content\": system_prompt},\n",
    "            {\"role\": \"user\", \"content\": user_prompt_for(website)}\n",
    "        ],\n",
    "    )\n",
    "    return response.choices[0].message.content\n",
    "\n",
    "\n",
    "\n",
    "def display_summary(url):\n",
    "    summary = summarize_website(url)\n",
    "    display(Markdown(summary))\n",
    "    \n",
    "display_summary(\"https://www.python.org\")"
   ]
  }
 ],
 "metadata": {
  "kernelspec": {
   "display_name": "llms",
   "language": "python",
   "name": "python3"
  },
  "language_info": {
   "codemirror_mode": {
    "name": "ipython",
    "version": 3
   },
   "file_extension": ".py",
   "mimetype": "text/x-python",
   "name": "python",
   "nbconvert_exporter": "python",
   "pygments_lexer": "ipython3",
   "version": "3.11.13"
  }
 },
 "nbformat": 4,
 "nbformat_minor": 5
}
