{
 "cells": [
  {
   "cell_type": "markdown",
   "id": "e80a5c02",
   "metadata": {},
   "source": [
    "# Website Summarizer Ollama\n",
    "We are going use local models like llama3.2 and DeepSeek-R1 locally to do the same task like before."
   ]
  },
  {
   "cell_type": "code",
   "execution_count": null,
   "id": "b1af2f41",
   "metadata": {},
   "outputs": [],
   "source": [
    "!ollama pull llama3.2\n",
    "!ollama pull deepseek-r1:1.5b"
   ]
  },
  {
   "cell_type": "code",
   "execution_count": null,
   "id": "2c171767",
   "metadata": {},
   "outputs": [],
   "source": [
    "import requests\n",
    "from bs4 import BeautifulSoup\n",
    "from IPython.display import Markdown, display"
   ]
  },
  {
   "cell_type": "code",
   "execution_count": null,
   "id": "50105741",
   "metadata": {},
   "outputs": [],
   "source": []
  }
 ],
 "metadata": {
  "kernelspec": {
   "display_name": "llms",
   "language": "python",
   "name": "python3"
  },
  "language_info": {
   "name": "python",
   "version": "3.11.13"
  }
 },
 "nbformat": 4,
 "nbformat_minor": 5
}
