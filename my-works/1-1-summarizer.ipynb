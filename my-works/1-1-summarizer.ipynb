{
 "cells": [
  {
   "cell_type": "markdown",
   "id": "0c3226a5",
   "metadata": {},
   "source": [
    "# Website Summarizer\n",
    "\n",
    "For a given url this project give a summary of the web contents"
   ]
  },
  {
   "cell_type": "markdown",
   "id": "c6ab5048",
   "metadata": {},
   "source": []
  }
 ],
 "metadata": {
  "language_info": {
   "name": "python"
  }
 },
 "nbformat": 4,
 "nbformat_minor": 5
}
